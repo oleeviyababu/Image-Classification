{
 "cells": [
  {
   "cell_type": "markdown",
   "id": "5c720b57",
   "metadata": {},
   "source": [
    "# <b> <font color=blue>TASK 1: TRAINING</font></b>"
   ]
  },
  {
   "cell_type": "code",
   "execution_count": 7,
   "id": "1277c632",
   "metadata": {},
   "outputs": [],
   "source": [
    "import tensorflow as tf\n",
    "from tensorflow import keras\n",
    "from tensorflow.keras import datasets, layers, models\n",
    "from tensorflow.keras.preprocessing.image import ImageDataGenerator\n",
    "import matplotlib.pyplot as plt\n",
    "import numpy as np"
   ]
  },
  {
   "cell_type": "markdown",
   "id": "e37dfce9",
   "metadata": {},
   "source": [
    "<b><font color=purple>Load the dataset</font></b>"
   ]
  },
  {
   "cell_type": "code",
   "execution_count": 8,
   "id": "c0b5add9",
   "metadata": {},
   "outputs": [
    {
     "name": "stdout",
     "output_type": "stream",
     "text": [
      "Found 27000 images belonging to 10 classes.\n"
     ]
    }
   ],
   "source": [
    "data_generator = keras.preprocessing.image.ImageDataGenerator(\n",
    "    rescale=1./255,\n",
    "    shear_range=0.2,\n",
    "    zoom_range=0.2,\n",
    "    validation_split=0.2\n",
    "    \n",
    ")\n",
    "\n",
    "data_path = r'C:\\Users\\oleev\\Desktop\\dwt\\EuroSAT\\2750'\n",
    "\n",
    "data = data_generator.flow_from_directory(\n",
    "    data_path,\n",
    "    target_size=(64, 64),\n",
    "    batch_size=32,\n",
    "    class_mode='categorical',\n",
    "    classes=['AnnualCrop', 'Forest', 'HerbaceousVegetation', 'Highway', 'Industrial', 'Pasture', 'PermanentCrop', 'Residential', 'River', 'SeaLake'] \n",
    "\n",
    ")\n"
   ]
  },
  {
   "cell_type": "markdown",
   "id": "6b9f807d",
   "metadata": {},
   "source": [
    "<b><font color=purple>Train-Test Split</font></b>"
   ]
  },
  {
   "cell_type": "code",
   "execution_count": 9,
   "id": "d7b7b8fe",
   "metadata": {},
   "outputs": [
    {
     "name": "stdout",
     "output_type": "stream",
     "text": [
      "Found 21600 images belonging to 10 classes.\n"
     ]
    }
   ],
   "source": [
    "train_data = data_generator.flow_from_directory(\n",
    "    data_path,\n",
    "    target_size=(64, 64),\n",
    "    batch_size=8,\n",
    "    class_mode='categorical',\n",
    "    subset='training',\n",
    "    classes=['AnnualCrop', 'Forest', 'HerbaceousVegetation', 'Highway', 'Industrial', 'Pasture', 'PermanentCrop', 'Residential', 'River', 'SeaLake']\n",
    "\n",
    "    \n",
    "\n",
    ")\n"
   ]
  },
  {
   "cell_type": "code",
   "execution_count": 10,
   "id": "726e6651",
   "metadata": {},
   "outputs": [
    {
     "name": "stdout",
     "output_type": "stream",
     "text": [
      "Found 5400 images belonging to 10 classes.\n"
     ]
    }
   ],
   "source": [
    "test_data = data_generator.flow_from_directory(\n",
    "    r'C:\\Users\\oleev\\Desktop\\dwt\\EuroSAT\\2750',\n",
    "    target_size=(64, 64),\n",
    "    batch_size=1,\n",
    "    subset='validation',\n",
    "    class_mode='categorical',\n",
    "    classes=['AnnualCrop', 'Forest', 'HerbaceousVegetation', 'Highway', 'Industrial', 'Pasture', 'PermanentCrop', 'Residential', 'River', 'SeaLake']\n",
    "\n",
    "\n",
    "    \n",
    ")\n"
   ]
  },
  {
   "cell_type": "markdown",
   "id": "9f8e9446",
   "metadata": {},
   "source": [
    "<b><font color=purple>Model building using ANN</font></b>\n"
   ]
  },
  {
   "cell_type": "code",
   "execution_count": 27,
   "id": "af3aacdb",
   "metadata": {},
   "outputs": [
    {
     "name": "stdout",
     "output_type": "stream",
     "text": [
      "Epoch 1/5\n",
      "2700/2700 [==============================] - 411s 152ms/step - loss: 1.7367 - accuracy: 0.3415 - val_loss: 1.5781 - val_accuracy: 0.3778\n",
      "Epoch 2/5\n",
      "2700/2700 [==============================] - 403s 149ms/step - loss: 1.5279 - accuracy: 0.4341 - val_loss: 1.3760 - val_accuracy: 0.5069\n",
      "Epoch 3/5\n",
      "2700/2700 [==============================] - 403s 149ms/step - loss: 1.4420 - accuracy: 0.4688 - val_loss: 1.3159 - val_accuracy: 0.5259\n",
      "Epoch 4/5\n",
      "2700/2700 [==============================] - 404s 149ms/step - loss: 1.3784 - accuracy: 0.4945 - val_loss: 1.4456 - val_accuracy: 0.4750\n",
      "Epoch 5/5\n",
      "2700/2700 [==============================] - 406s 150ms/step - loss: 1.3352 - accuracy: 0.5171 - val_loss: 1.2729 - val_accuracy: 0.5452\n"
     ]
    },
    {
     "data": {
      "text/plain": [
       "<keras.callbacks.History at 0x19ea8e0e100>"
      ]
     },
     "execution_count": 27,
     "metadata": {},
     "output_type": "execute_result"
    }
   ],
   "source": [
    "ann = keras.Sequential([\n",
    "        keras.layers.Flatten(input_shape=(64,64,3)),\n",
    "        keras.layers.Dense(3000, activation='relu'),\n",
    "        keras.layers.Dense(1000, activation='relu'),\n",
    "        keras.layers.Dense(10, activation='softmax')    \n",
    "    ])\n",
    "\n",
    "ann.compile(optimizer='SGD',\n",
    "              loss='categorical_crossentropy',\n",
    "              metrics=['accuracy'])\n",
    "\n",
    "ann.fit(train_data,validation_data=test_data, epochs=5)"
   ]
  },
  {
   "cell_type": "code",
   "execution_count": 28,
   "id": "62546745",
   "metadata": {},
   "outputs": [
    {
     "name": "stdout",
     "output_type": "stream",
     "text": [
      "5400/5400 [==============================] - 100s 19ms/step - loss: 1.2758 - accuracy: 0.5476\n"
     ]
    },
    {
     "data": {
      "text/plain": [
       "[1.2757649421691895, 0.5475925803184509]"
      ]
     },
     "execution_count": 28,
     "metadata": {},
     "output_type": "execute_result"
    }
   ],
   "source": [
    "ann.evaluate(test_data)\n"
   ]
  },
  {
   "cell_type": "markdown",
   "id": "f84ab508",
   "metadata": {},
   "source": [
    "<b><font color=purple>Confusion Matrix</font></b>\n"
   ]
  },
  {
   "cell_type": "code",
   "execution_count": 29,
   "id": "6de81d30",
   "metadata": {},
   "outputs": [
    {
     "name": "stdout",
     "output_type": "stream",
     "text": [
      "5400/5400 [==============================] - 96s 18ms/step\n",
      "Classification Report: \n",
      "               precision    recall  f1-score   support\n",
      "\n",
      "           0       0.73      0.44      0.55       600\n",
      "           1       0.85      0.72      0.78       600\n",
      "           2       0.46      0.13      0.20       600\n",
      "           3       0.39      0.14      0.21       500\n",
      "           4       0.55      0.85      0.67       500\n",
      "           5       0.47      0.70      0.57       400\n",
      "           6       0.44      0.52      0.48       500\n",
      "           7       0.40      0.82      0.54       600\n",
      "           8       0.51      0.55      0.53       500\n",
      "           9       0.83      0.64      0.72       600\n",
      "\n",
      "    accuracy                           0.55      5400\n",
      "   macro avg       0.56      0.55      0.52      5400\n",
      "weighted avg       0.57      0.55      0.53      5400\n",
      "\n"
     ]
    }
   ],
   "source": [
    "from sklearn.metrics import confusion_matrix,classification_report\n",
    "\n",
    "y_true = []\n",
    "for i in range(test_data.samples // test_data.batch_size):\n",
    "    _, batch_labels = test_data.next()\n",
    "    y_true.extend(np.argmax(batch_labels, axis=-1))\n",
    "    \n",
    "# Generating predictions for test data\n",
    "y_probab = ann.predict(test_data, steps=np.ceil(test_data.samples/test_data.batch_size))\n",
    "\n",
    "#Generating predicted classes for test data\n",
    "y_pred = np.argmax(y_probab, axis=-1)\n",
    "\n",
    "#Generating confusion matrix\n",
    "cm = confusion_matrix(y_true, y_pred)\n",
    "print(\"Classification Report: \\n\", classification_report(y_true, y_pred))"
   ]
  },
  {
   "cell_type": "markdown",
   "id": "0441a385",
   "metadata": {},
   "source": [
    "<b><font color=purple>Plotting Confusion Matrix</font></b>\n"
   ]
  },
  {
   "cell_type": "code",
   "execution_count": 30,
   "id": "663d9db9",
   "metadata": {},
   "outputs": [
    {
     "data": {
      "image/png": "[encoded data removed]",
      "text/plain": [
       "<Figure size 432x288 with 2 Axes>"
      ]
     },
     "metadata": {
      "needs_background": "light"
     },
     "output_type": "display_data"
    }
   ],
   "source": [
    "#plotting confusion matrix\n",
    "plt.imshow(cm, cmap=plt.cm.Blues)\n",
    "plt.title('Confusion Matrix')\n",
    "plt.colorbar()\n",
    "tick_marks = np.arange(len(data.class_indices))\n",
    "plt.xticks(tick_marks, data.class_indices, rotation=90)\n",
    "plt.yticks(tick_marks, data.class_indices)\n",
    "plt.xlabel('Predicted Label')\n",
    "plt.ylabel('Ground Truth')\n",
    "\n",
    "# adding values in each cell\n",
    "thresh = cm.max() / 2.\n",
    "for i, j in zip(range(cm.shape[0]), range(cm.shape[1])):\n",
    "    plt.text(j, i, format(cm[i, j], 'd'),\n",
    "             horizontalalignment=\"center\",\n",
    "             color=\"white\" if cm[i, j] > thresh else \"black\")\n",
    "\n",
    "plt.show()"
   ]
  },
  {
   "cell_type": "markdown",
   "id": "1addd94a",
   "metadata": {},
   "source": [
    "<b><font color=black> RESULTS:At the end of 5 epochs,the acuracy is 54.7% ,for better results i am training the dataset using CNN </font></b>\n"
   ]
  },
  {
   "cell_type": "markdown",
   "id": "76c11921",
   "metadata": {},
   "source": [
    "<b><font color=purple>Model building using CNN</font></b>\n"
   ]
  },
  {
   "cell_type": "code",
   "execution_count": 11,
   "id": "9c4968f3",
   "metadata": {},
   "outputs": [],
   "source": [
    "CNN = keras.Sequential([\n",
    "        keras.layers.Conv2D(32, (3, 3), activation='relu', input_shape=(64, 64, 3)),\n",
    "        keras.layers.MaxPooling2D((2, 2)),\n",
    "        keras.layers.Conv2D(64, (3, 3), activation='relu'),\n",
    "        keras.layers.MaxPooling2D((2, 2)),\n",
    "        keras.layers.Conv2D(64, (3, 3), activation='relu'),\n",
    "        keras.layers.Flatten(),\n",
    "        keras.layers.Dense(64, activation='relu'),\n",
    "        keras.layers.Dense(10,activation='softmax')\n",
    "        \n",
    "])"
   ]
  },
  {
   "cell_type": "code",
   "execution_count": 12,
   "id": "e7062e39",
   "metadata": {},
   "outputs": [],
   "source": [
    "CNN.compile(optimizer='adam',\n",
    "              loss='categorical_crossentropy',\n",
    "              metrics=['accuracy'])\n"
   ]
  },
  {
   "cell_type": "code",
   "execution_count": 13,
   "id": "f3fcc101",
   "metadata": {},
   "outputs": [
    {
     "name": "stdout",
     "output_type": "stream",
     "text": [
      "Epoch 1/10\n",
      "2700/2700 [==============================] - 201s 72ms/step - loss: 1.2858 - accuracy: 0.5091 - val_loss: 0.9439 - val_accuracy: 0.6522\n",
      "Epoch 2/10\n",
      "2700/2700 [==============================] - 128s 47ms/step - loss: 0.7986 - accuracy: 0.7118 - val_loss: 0.8224 - val_accuracy: 0.7072\n",
      "Epoch 3/10\n",
      "2700/2700 [==============================] - 129s 48ms/step - loss: 0.6511 - accuracy: 0.7638 - val_loss: 0.6322 - val_accuracy: 0.7770\n",
      "Epoch 4/10\n",
      "2700/2700 [==============================] - 112s 41ms/step - loss: 0.5725 - accuracy: 0.7926 - val_loss: 0.5839 - val_accuracy: 0.7893\n",
      "Epoch 5/10\n",
      "2700/2700 [==============================] - 106s 39ms/step - loss: 0.5132 - accuracy: 0.8178 - val_loss: 0.4860 - val_accuracy: 0.8265\n",
      "Epoch 6/10\n",
      "2700/2700 [==============================] - 107s 39ms/step - loss: 0.4629 - accuracy: 0.8338 - val_loss: 0.6525 - val_accuracy: 0.7665\n",
      "Epoch 7/10\n",
      "2700/2700 [==============================] - 106s 39ms/step - loss: 0.4252 - accuracy: 0.8473 - val_loss: 0.5849 - val_accuracy: 0.7913\n",
      "Epoch 8/10\n",
      "2700/2700 [==============================] - 108s 40ms/step - loss: 0.3936 - accuracy: 0.8601 - val_loss: 0.5207 - val_accuracy: 0.8239\n",
      "Epoch 9/10\n",
      "2700/2700 [==============================] - 106s 39ms/step - loss: 0.3583 - accuracy: 0.8734 - val_loss: 0.4337 - val_accuracy: 0.8502\n",
      "Epoch 10/10\n",
      "2700/2700 [==============================] - 110s 41ms/step - loss: 0.3373 - accuracy: 0.8786 - val_loss: 0.4466 - val_accuracy: 0.8580\n"
     ]
    },
    {
     "data": {
      "text/plain": [
       "<keras.callbacks.History at 0x19ea582bbb0>"
      ]
     },
     "execution_count": 13,
     "metadata": {},
     "output_type": "execute_result"
    }
   ],
   "source": [
    "CNN.fit(train_data, validation_data=test_data, epochs=10)"
   ]
  },
  {
   "cell_type": "code",
   "execution_count": 14,
   "id": "3a14261d",
   "metadata": {},
   "outputs": [
    {
     "name": "stdout",
     "output_type": "stream",
     "text": [
      "5400/5400 [==============================] - 27s 5ms/step - loss: 0.4485 - accuracy: 0.8544\n"
     ]
    },
    {
     "data": {
      "text/plain": [
       "[0.44851791858673096, 0.8544444441795349]"
      ]
     },
     "execution_count": 14,
     "metadata": {},
     "output_type": "execute_result"
    }
   ],
   "source": [
    "CNN.evaluate(test_data)\n",
    " "
   ]
  },
  {
   "cell_type": "markdown",
   "id": "fb2f4358",
   "metadata": {},
   "source": [
    "<b><font color=purple>Confusion Matrix</font></b>\n"
   ]
  },
  {
   "cell_type": "code",
   "execution_count": 37,
   "id": "5ce38aab",
   "metadata": {},
   "outputs": [
    {
     "name": "stdout",
     "output_type": "stream",
     "text": [
      "5400/5400 [==============================] - 27s 5ms/step\n",
      "Classification Report: \n",
      "               precision    recall  f1-score   support\n",
      "\n",
      "           0       0.87      0.86      0.86       600\n",
      "           1       0.95      0.95      0.95       600\n",
      "           2       0.84      0.80      0.82       600\n",
      "           3       0.75      0.72      0.74       500\n",
      "           4       0.88      0.93      0.91       500\n",
      "           5       0.76      0.90      0.82       400\n",
      "           6       0.74      0.66      0.70       500\n",
      "           7       0.89      0.98      0.93       600\n",
      "           8       0.81      0.79      0.80       500\n",
      "           9       0.99      0.94      0.96       600\n",
      "\n",
      "    accuracy                           0.86      5400\n",
      "   macro avg       0.85      0.85      0.85      5400\n",
      "weighted avg       0.86      0.86      0.85      5400\n",
      "\n"
     ]
    }
   ],
   "source": [
    "y_true = []\n",
    "for i in range(test_data.samples // test_data.batch_size):\n",
    "    _, batch_labels = test_data.next()\n",
    "    y_true.extend(np.argmax(batch_labels, axis=-1))\n",
    "\n",
    "# Generating predictions for test data\n",
    "y_probab = CNN.predict(test_data, steps=np.ceil(test_data.samples/test_data.batch_size))\n",
    "\n",
    "#Generating predicted classes for test data\n",
    "y_pred = np.argmax(y_probab, axis=-1)\n",
    "\n",
    "#Generating confusion matrix\n",
    "cm = confusion_matrix(y_true, y_pred)\n",
    "print(\"Classification Report: \\n\", classification_report(y_true, y_pred))"
   ]
  },
  {
   "cell_type": "markdown",
   "id": "31365ea7",
   "metadata": {},
   "source": [
    "<b><font color=purple>Plotting Confusion Matrix</font></b>\n"
   ]
  },
  {
   "cell_type": "code",
   "execution_count": 16,
   "id": "2ec32438",
   "metadata": {
    "scrolled": true
   },
   "outputs": [
    {
     "data": {
      "image/png": "[encoded data removed]",
      "text/plain": [
       "<Figure size 432x288 with 2 Axes>"
      ]
     },
     "metadata": {
      "needs_background": "light"
     },
     "output_type": "display_data"
    }
   ],
   "source": [
    "plt.imshow(cm, cmap=plt.cm.Blues)\n",
    "plt.title('Confusion Matrix')\n",
    "plt.colorbar()\n",
    "tick_marks = np.arange(len(data.class_indices))\n",
    "plt.xticks(tick_marks, data.class_indices, rotation=90)\n",
    "plt.yticks(tick_marks, data.class_indices)\n",
    "plt.xlabel('Predicted Label')\n",
    "plt.ylabel('Ground Truth')\n",
    "\n",
    "#adding values in each cell\n",
    "thresh = cm.max() / 2.\n",
    "for i, j in zip(range(cm.shape[0]), range(cm.shape[1])):\n",
    "    plt.text(j, i, format(cm[i, j], 'd'),\n",
    "             horizontalalignment=\"center\",\n",
    "             color=\"white\" if cm[i, j] > thresh else \"black\")\n",
    "\n",
    "plt.show()"
   ]
  },
  {
   "cell_type": "markdown",
   "id": "d5a0ad39",
   "metadata": {},
   "source": [
    "<b><font color=black>RESULTS:With CNN, at the end 10 epochs, accuracy was at around 85.4% which is a significant improvement over ANN. CNN's are best for image classification and gives better accuracy. Also computation is much less compared to simple ANN as maxpooling reduces the image dimensions while still preserving the features.</font></b>\n"
   ]
  },
  {
   "cell_type": "markdown",
   "id": "4352e18e",
   "metadata": {},
   "source": [
    "# <b> <font color=blue>TASK 2: CLASSIFICATION RESULTS OF 20 SAMPLE IMAGES</font></b>"
   ]
  },
  {
   "cell_type": "code",
   "execution_count": 23,
   "id": "0afd726f",
   "metadata": {},
   "outputs": [
    {
     "name": "stdout",
     "output_type": "stream",
     "text": [
      "1/1 [==============================] - 0s 28ms/step\n"
     ]
    }
   ],
   "source": [
    "import os\n",
    "\n",
    "\n",
    "# Select 20 sample images from the test data\n",
    "sample_data = []\n",
    "for i in range(20):\n",
    "    sample_data.append(test_data[i][0][0])\n",
    "\n",
    "# Generating predictions for sample images\n",
    "y_prob = CNN.predict(np.array(sample_data))\n",
    "\n",
    "# Getting predicted classes for the sample images\n",
    "y_pred = np.argmax(y_prob, axis=-1)\n",
    "\n",
    "# Getting all class labels\n",
    "class_labels = train_data.class_indices\n",
    "class_labels = {v: k for k, v in class_labels.items()}\n",
    "\n",
    "# Create output directory for saving results\n",
    "output_dir = 'sample_results'\n",
    "if not os.path.exists(output_dir):\n",
    "    os.mkdir(output_dir)\n",
    "\n",
    "# Save classification results for each sample image\n",
    "for i in range(len(y_pred)):\n",
    "    filename = 'sample_{}.jpg'.format(i+1)\n",
    "    label = class_labels[y_pred[i]]\n",
    "    result = 'Predicted class: {}'.format(label)\n",
    "    with open(os.path.join(output_dir, 'sample_{}.txt'.format(i+1)), 'w') as f:\n",
    "        f.write(result)\n",
    "    keras.preprocessing.image.save_img(os.path.join(output_dir, filename), sample_data[i])\n"
   ]
  },
  {
   "cell_type": "markdown",
   "id": "95350624",
   "metadata": {},
   "source": [
    "<b><font color=black>Randomly selected 20 images,perform the classification and saved in a folder named 'sample_results'</font></b>\n"
   ]
  },
  {
   "cell_type": "markdown",
   "id": "ef3deba6",
   "metadata": {},
   "source": [
    "# <b> <font color=blue>INFERENCES<font></b>"
   ]
  },
  {
   "cell_type": "markdown",
   "id": "05561072",
   "metadata": {},
   "source": [
    "<b><font color=black>CNN outperformed ANN:Because CNN can capture spatial features in the data, CNNs are made to work well with image data. On the other hand, data with less spatial correlation are better suited for ANNs.</font></b>\n",
    "    \n",
    "<b><font color=black>The Softmax activation function outperformed ReLU: In the output layer of a classification network, softmax activation is frequently used to guarantee that the outputs are normalized probabilities. In the hidden layers of a neural network, ReLU is a common activation function. However, it can occasionally cause the vanishing gradient problem, which results in slower training and lower accuracy.</font></b>\n",
    "    \n",
    "<b><font color=black>TMax pooling and convolutional layers improved accuracy: Max pooling reduces the spatial dimensions of the data, making it easier to manage for subsequent layers, and convolutional layers contribute to the process of extracting features from the input data. When compared to the ANN, the CNN performs better because of the combination of these layers.</font></b>\n"
   ]
  },
  {
   "cell_type": "code",
   "execution_count": null,
   "id": "bdbe87c3",
   "metadata": {},
   "outputs": [],
   "source": []
  }
 ],
 "metadata": {
  "kernelspec": {
   "display_name": "Python 3 (ipykernel)",
   "language": "python",
   "name": "python3"
  },
  "language_info": {
   "codemirror_mode": {
    "name": "ipython",
    "version": 3
   },
   "file_extension": ".py",
   "mimetype": "text/x-python",
   "name": "python",
   "nbconvert_exporter": "python",
   "pygments_lexer": "ipython3",
   "version": "3.9.7"
  }
 },
 "nbformat": 4,
 "nbformat_minor": 5
}
